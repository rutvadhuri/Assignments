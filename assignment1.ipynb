{
 "cells": [
  {
   "cell_type": "markdown",
   "id": "10ad0a3d-9e20-47e7-b45b-0c2979758e6d",
   "metadata": {},
   "source": [
    "1. In the below elements which of them are values or an expression? eg:- values can be integer or string and expressions will be mathematical operators."
   ]
  },
  {
   "cell_type": "markdown",
   "id": "483f8fef-3e37-4010-a2bd-499235596111",
   "metadata": {},
   "source": [
    "value :  'hello', -87.8, 6\n",
    "\n",
    "\n",
    "expression : *, -, /, +"
   ]
  },
  {
   "cell_type": "markdown",
   "id": "5819507d-28c9-42bf-abf3-fc68e696261f",
   "metadata": {},
   "source": [
    "2. What is the difference between string and variable?"
   ]
  },
  {
   "cell_type": "markdown",
   "id": "9e6c8bf9-bcaa-473b-a4cc-7428b9239d45",
   "metadata": {},
   "source": [
    "String:\n",
    "\n",
    "It is a data type used to represent text or a sequence of characters.\n",
    "\n",
    "a string value can contain spaces,  symbols, numbers, and letters.\n",
    "\n",
    "Strings are typically enclosed by single or double quotation marks.\n",
    "\n",
    "Examples \"ineuron\",\"1234\""
   ]
  },
  {
   "cell_type": "markdown",
   "id": "d2ff8639-834d-4144-89ea-50d05cbda03a",
   "metadata": {},
   "source": [
    "Variable:\n",
    "\n",
    "A variable is a container used to store values.\n",
    "\n",
    "a variable uses a identifier to store the value is the computer memory.\n",
    "\n",
    "They can hold different types of data.\n",
    "\n",
    "Variables allow you to store and reuse values.\n"
   ]
  },
  {
   "cell_type": "markdown",
   "id": "a9c1a7a0-e371-4d50-bf8c-aaad5ac45cc6",
   "metadata": {},
   "source": [
    "3. Describe three different data types."
   ]
  },
  {
   "cell_type": "markdown",
   "id": "b8b50203-e293-43e4-b10a-b0265397725c",
   "metadata": {},
   "source": [
    "Integer (int):\n",
    "\n",
    "An integer data type represents whole numbers, both positive and negative, without any fractional or decimal part.\n",
    "\n",
    "Integers can be used for counting, indexing, and performing arithmetic operations.\n"
   ]
  },
  {
   "cell_type": "markdown",
   "id": "407d5eb3-4831-410e-9dda-b444952235d8",
   "metadata": {},
   "source": [
    "Float (Floating-Point Number):\n",
    "\n",
    "A float data type represents real numbers, including those with decimal points.\n",
    "\n",
    "Floats are used for representing quantities that can have fractional or decimal values."
   ]
  },
  {
   "cell_type": "markdown",
   "id": "a27f4ba4-623c-4f69-ab16-0f052a41910a",
   "metadata": {},
   "source": [
    "Boolean (bool):\n",
    "\n",
    "It represents binary logic that is true or false.\n",
    "\n",
    "Booleans are commonly used in conditional statements and expressions to control the flow of a program. "
   ]
  },
  {
   "cell_type": "markdown",
   "id": "2d31186b-664a-42ab-82fa-6a788e015630",
   "metadata": {},
   "source": [
    "4. What is an expression made up of? What do all expressions do?"
   ]
  },
  {
   "cell_type": "markdown",
   "id": "9fe0b12a-2f84-48f9-ab21-fb2c3211ef5f",
   "metadata": {},
   "source": [
    "An expression in programming is made up of one or more elements, such as values, variables, operators, and function calls.\n",
    "\n",
    "Expression usually are written inorder to be computed to get a particular result.\n",
    "\n",
    "An expression is made up of below mentioned elements.\n",
    "\n",
    "Values: Expressions often include one or more values. \n",
    "\n",
    "Variables: Variables can be used in expressions to represent values that may change during the execution of a program.\n",
    "\n",
    "Operators: Operators are used to perform specific operations on values or variables\n"
   ]
  },
  {
   "cell_type": "markdown",
   "id": "b6301215-d08d-4122-a249-5ad89efdd1ba",
   "metadata": {},
   "source": [
    "5. This assignment statements, like spam = 10. What is the difference between an expression and a statement?"
   ]
  },
  {
   "cell_type": "markdown",
   "id": "26a02122-b392-4139-bb63-0d220b7812e4",
   "metadata": {},
   "source": [
    "Expression comprise of values, variables, operators, and function calls that can be computed to produce a single value.\n",
    "\n",
    "The primary purpose of an expression is to compute a value.\n",
    "\n",
    "Example expressions:\n",
    "\n",
    "8\n",
    "\n",
    "z + 20\n",
    "\n",
    "100 * (3 + x)/20\n",
    "\n",
    "len(\"python program\")"
   ]
  },
  {
   "cell_type": "markdown",
   "id": "706cc629-2fd0-4bea-9375-61564cc203b4",
   "metadata": {},
   "source": [
    "Statement:\n",
    "\n",
    "A statement is a complete line of code that performs an action, carries out a task, or controls the flow of a program.\n",
    "\n",
    "Statements are used to tell the computer to do something, such as assigning values to variables, making decisions, or looping through a set of instructions.\n",
    "\n",
    "\n",
    "Assignment statement: spam = 10 \n",
    "\n",
    "Conditional statement: if x > 5: \n",
    "\n",
    "Loop statement: for i in box: "
   ]
  },
  {
   "cell_type": "markdown",
   "id": "183312ad-98d7-4cdf-b356-84be8126a1d1",
   "metadata": {},
   "source": [
    "6. After running the following code, what does the variable bacon contain?\n",
    "bacon = 22\n",
    "bacon + 1"
   ]
  },
  {
   "cell_type": "code",
   "execution_count": 1,
   "id": "3aab6ce9-8369-4c6c-9564-21c9c9d624f5",
   "metadata": {},
   "outputs": [
    {
     "data": {
      "text/plain": [
       "23"
      ]
     },
     "execution_count": 1,
     "metadata": {},
     "output_type": "execute_result"
    }
   ],
   "source": [
    "bacon = 22 ## here the variable bacon is provided with value 22 to which we add 1 so the output is 23\n",
    "bacon + 1"
   ]
  },
  {
   "cell_type": "markdown",
   "id": "7d44e6b8-fb96-4eb4-b983-24c640927950",
   "metadata": {},
   "source": [
    "7. What should the values of the following two terms be?\n",
    "\n",
    "'spam' + 'spamspam'\n",
    "\n",
    "'spam' * 3"
   ]
  },
  {
   "cell_type": "markdown",
   "id": "15d0a2f1-634d-4592-9953-45693c81416f",
   "metadata": {},
   "source": [
    "'spam' + 'spamspam' #here the string is getting concatenated."
   ]
  },
  {
   "cell_type": "code",
   "execution_count": 4,
   "id": "90eb5379-40a2-4eff-b971-cd1a5c81ed55",
   "metadata": {},
   "outputs": [
    {
     "data": {
      "text/plain": [
       "'spamspamspam'"
      ]
     },
     "execution_count": 4,
     "metadata": {},
     "output_type": "execute_result"
    }
   ],
   "source": [
    "'spam' * 3 #here when we trying to repeat the string 3 times, just by using multiplication operator"
   ]
  },
  {
   "cell_type": "markdown",
   "id": "c9b43aef-d186-46ec-a45e-42c9a99ea0b2",
   "metadata": {},
   "source": [
    "8. Why is eggs a valid variable name while 100 is invalid?"
   ]
  },
  {
   "cell_type": "markdown",
   "id": "64d5bbea-1e5b-4ec5-9ebc-91c1e8e4b739",
   "metadata": {},
   "source": [
    "Variable names can contain letters, digits, and underscores.\n",
    "\n",
    "although as per python language a variable name cannot start with with a digit (0-9).\n",
    "\n",
    "They must start with a letter (a-z, A-Z) or an underscore (_). \n",
    "\n",
    "Variable names cannot be the same as reserved words or keywords in the programming language.\n",
    "\n",
    "Here egg is a valid variable however 100 isn't since its violating a rule in python wherein a variable name cannot start with (0-9). \n",
    "This rule is in place to distinguish variable names from numeric values. \n"
   ]
  },
  {
   "cell_type": "markdown",
   "id": "0566d5b2-1993-4fe3-8889-9798cb1ca713",
   "metadata": {},
   "source": [
    "9. What three functions can be used to get the integer, floating-point number, or string version of a value?"
   ]
  },
  {
   "cell_type": "markdown",
   "id": "0450210a-91a5-4c48-b3ef-8fd57a7ccf4f",
   "metadata": {},
   "source": [
    "The three function that can be used are int(), float(), str()."
   ]
  },
  {
   "cell_type": "code",
   "execution_count": 14,
   "id": "83b32dc0-348a-42d6-a22d-90cfe3b816d8",
   "metadata": {},
   "outputs": [
    {
     "name": "stdout",
     "output_type": "stream",
     "text": [
      "<class 'float'>\n",
      "3.0\n"
     ]
    }
   ],
   "source": [
    "value=3\n",
    "float_value=float(value)\n",
    "print(type(float_value))\n",
    "print(float_value)"
   ]
  },
  {
   "cell_type": "code",
   "execution_count": 13,
   "id": "40899b1a-821d-4091-a36b-71f89bb18ef8",
   "metadata": {},
   "outputs": [
    {
     "name": "stdout",
     "output_type": "stream",
     "text": [
      "<class 'str'>\n",
      "10\n"
     ]
    }
   ],
   "source": [
    "value1=10\n",
    "str_value=str(value1)\n",
    "print(type(str_value))\n",
    "print(str_value)"
   ]
  },
  {
   "cell_type": "code",
   "execution_count": 16,
   "id": "6077d43a-aac5-48ad-a68b-36f3541dbd5d",
   "metadata": {},
   "outputs": [
    {
     "name": "stdout",
     "output_type": "stream",
     "text": [
      "10\n"
     ]
    }
   ],
   "source": [
    "value = 10.5\n",
    "integer_value = int(value)\n",
    "print(integer_value)"
   ]
  },
  {
   "cell_type": "markdown",
   "id": "b1e234ea-8e8e-4808-8875-f2fea79dca8c",
   "metadata": {},
   "source": [
    "10. Why does this expression cause an error? How can you fix it?\n",
    "'I have eaten ' + 99 + ' burritos.'\n"
   ]
  },
  {
   "cell_type": "code",
   "execution_count": 17,
   "id": "4fb16fee-7fee-484e-812c-0f2509f291ad",
   "metadata": {},
   "outputs": [
    {
     "data": {
      "text/plain": [
       "'I have eaten 99 burritos.'"
      ]
     },
     "execution_count": 17,
     "metadata": {},
     "output_type": "execute_result"
    }
   ],
   "source": [
    "'I have eaten ' + '99' + ' burritos.'\n"
   ]
  },
  {
   "cell_type": "code",
   "execution_count": null,
   "id": "7e487192-bca9-4cf0-ab96-67e832efe7fc",
   "metadata": {},
   "outputs": [],
   "source": []
  }
 ],
 "metadata": {
  "kernelspec": {
   "display_name": "Python 3 (ipykernel)",
   "language": "python",
   "name": "python3"
  },
  "language_info": {
   "codemirror_mode": {
    "name": "ipython",
    "version": 3
   },
   "file_extension": ".py",
   "mimetype": "text/x-python",
   "name": "python",
   "nbconvert_exporter": "python",
   "pygments_lexer": "ipython3",
   "version": "3.10.6"
  }
 },
 "nbformat": 4,
 "nbformat_minor": 5
}
