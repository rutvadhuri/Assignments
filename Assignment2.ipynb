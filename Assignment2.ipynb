{
 "cells": [
  {
   "cell_type": "markdown",
   "id": "dba1b310",
   "metadata": {},
   "source": [
    "1.What are the two values of the Boolean data type? How do you write them?"
   ]
  },
  {
   "cell_type": "markdown",
   "id": "f9c1a8c6",
   "metadata": {},
   "source": [
    "The two values of boolean data type are True or False.\n",
    "\n",
    "The vales are used to represent binary logic.\n",
    "\n",
    "True: represents a true or valid condition.\n",
    "\n",
    "False: This represents a false or invalid condition.\n"
   ]
  },
  {
   "cell_type": "code",
   "execution_count": 1,
   "id": "cfe7a788",
   "metadata": {},
   "outputs": [
    {
     "name": "stdout",
     "output_type": "stream",
     "text": [
      "x is False\n",
      "y is False\n"
     ]
    }
   ],
   "source": [
    "x = False\n",
    "y = False\n",
    "\n",
    "if x:\n",
    "    print(\"x is True\")\n",
    "else:\n",
    "    print(\"x is False\")\n",
    "\n",
    "if y:\n",
    "    print(\"y is True\")\n",
    "else:\n",
    "    print(\"y is False\")"
   ]
  },
  {
   "cell_type": "markdown",
   "id": "6d8d1244",
   "metadata": {},
   "source": [
    "2. What are the three different types of Boolean operators?"
   ]
  },
  {
   "cell_type": "markdown",
   "id": "c13f542b",
   "metadata": {},
   "source": [
    "There are mainly three different boolean operators. that are used to perform logical operations.\n",
    "\n",
    "And operator(and):\n",
    "\n",
    "The and operator returns True if both operands are True else returns false.\n",
    "\n",
    "OR operator (or):\n",
    "\n",
    "The or operator returns True if at least one of the operands is True, if both the operands are false it returns false.\n",
    "\n",
    "NOT operator (not):\n",
    "\n",
    "The not operator negates the value of its operand. the keyword not works like like a unary operator, which means it takes the logical operations and then gives a complimentary output for the same.\n"
   ]
  },
  {
   "cell_type": "markdown",
   "id": "5c319a01",
   "metadata": {},
   "source": [
    "3. Make a list of each Boolean operator&#39;s truth tables (i.e. every possible combination of Booleanvalues for the operator and what it evaluate )."
   ]
  },
  {
   "cell_type": "markdown",
   "id": "c894c102",
   "metadata": {},
   "source": [
    "AND Operator (and):\n",
    "\n",
    "\n",
    "Operand 1 True Operand 2 True Result True \n",
    "\n",
    "Operand 1 True Operand 2 False Result  False\n",
    "\n",
    "Operand 1 False Operand 2 True Result False\n",
    "\n",
    "Operand 1 False Operand 2 False Result False \n",
    "\n",
    "\n",
    "\n",
    "Or Operator (OR):\n",
    "\n",
    "Operand 1 True Operand 2 True Result True \n",
    "\n",
    "Operand 1 True Operand 2 False Result  True\n",
    "\n",
    "Operand 1 False Operand 2 True Result True \n",
    "\n",
    "Operand 1 False Operand 2 False Result False \n",
    "\n",
    "\n",
    "Not Operator (not)\n",
    "\n",
    "Operand  True Result False\n",
    "\n",
    "Operand  False Result  True \n"
   ]
  },
  {
   "cell_type": "markdown",
   "id": "c5946681",
   "metadata": {},
   "source": [
    "4. What are the values of the following expressions?\n",
    "(5 > 4) and (3 == 5)\n",
    "not (5 > 4)\n",
    "(5 > 4) or (3 == 5)\n",
    "not ((5 > 4) or (3 == 5))\n",
    "(True and True) and (True == False)\n",
    "(not False) or (not True)"
   ]
  },
  {
   "cell_type": "code",
   "execution_count": 2,
   "id": "9f04929d",
   "metadata": {},
   "outputs": [
    {
     "data": {
      "text/plain": [
       "False"
      ]
     },
     "execution_count": 2,
     "metadata": {},
     "output_type": "execute_result"
    }
   ],
   "source": [
    "(5 > 4) and (3 == 5) #since and operator is used and here since 3==5 is false the output is false"
   ]
  },
  {
   "cell_type": "code",
   "execution_count": 3,
   "id": "8e3129be",
   "metadata": {},
   "outputs": [
    {
     "data": {
      "text/plain": [
       "False"
      ]
     },
     "execution_count": 3,
     "metadata": {},
     "output_type": "execute_result"
    }
   ],
   "source": [
    "not (5 > 4) # 5>4 is tru however since the not operator is used it negates the value"
   ]
  },
  {
   "cell_type": "code",
   "execution_count": 4,
   "id": "d0a62df0",
   "metadata": {},
   "outputs": [
    {
     "data": {
      "text/plain": [
       "True"
      ]
     },
     "execution_count": 4,
     "metadata": {},
     "output_type": "execute_result"
    }
   ],
   "source": [
    "(5 > 4) or (3 == 5) #since or operator is used and 5>4 the output is True "
   ]
  },
  {
   "cell_type": "code",
   "execution_count": 5,
   "id": "61851063",
   "metadata": {},
   "outputs": [
    {
     "data": {
      "text/plain": [
       "False"
      ]
     },
     "execution_count": 5,
     "metadata": {},
     "output_type": "execute_result"
    }
   ],
   "source": [
    "not ((5 > 4) or (3 == 5))\n",
    "#since or operator is used and 5>4 the output is True however the not operator negates it and final output is false"
   ]
  },
  {
   "cell_type": "code",
   "execution_count": 6,
   "id": "31a50d0b",
   "metadata": {},
   "outputs": [
    {
     "data": {
      "text/plain": [
       "False"
      ]
     },
     "execution_count": 6,
     "metadata": {},
     "output_type": "execute_result"
    }
   ],
   "source": [
    "(True and True) and (True == False) \n",
    "# true is not equal to false and soince and operator is used the output is the output is False "
   ]
  },
  {
   "cell_type": "code",
   "execution_count": 7,
   "id": "c9f4404a",
   "metadata": {},
   "outputs": [
    {
     "data": {
      "text/plain": [
       "True"
      ]
     },
     "execution_count": 7,
     "metadata": {},
     "output_type": "execute_result"
    }
   ],
   "source": [
    "(not False) or (not True)"
   ]
  },
  {
   "cell_type": "markdown",
   "id": "e7859b8b",
   "metadata": {},
   "source": [
    "5. What are the six comparison operators?"
   ]
  },
  {
   "cell_type": "markdown",
   "id": "79f48c16",
   "metadata": {},
   "source": [
    "Equality Operator (==):\n",
    "\n",
    "It checks if the two values are true."
   ]
  },
  {
   "cell_type": "code",
   "execution_count": 8,
   "id": "ebb64e50",
   "metadata": {},
   "outputs": [
    {
     "data": {
      "text/plain": [
       "True"
      ]
     },
     "execution_count": 8,
     "metadata": {},
     "output_type": "execute_result"
    }
   ],
   "source": [
    "1==1"
   ]
  },
  {
   "cell_type": "code",
   "execution_count": 9,
   "id": "90cd62e8",
   "metadata": {},
   "outputs": [
    {
     "data": {
      "text/plain": [
       "False"
      ]
     },
     "execution_count": 9,
     "metadata": {},
     "output_type": "execute_result"
    }
   ],
   "source": [
    "1==10"
   ]
  },
  {
   "cell_type": "markdown",
   "id": "d0886dc5",
   "metadata": {},
   "source": [
    "Inequality Operator (!=):\n",
    "\n",
    "The inequality operator checks if two values are not equal."
   ]
  },
  {
   "cell_type": "code",
   "execution_count": 11,
   "id": "58855908",
   "metadata": {},
   "outputs": [
    {
     "data": {
      "text/plain": [
       "False"
      ]
     },
     "execution_count": 11,
     "metadata": {},
     "output_type": "execute_result"
    }
   ],
   "source": [
    "1!=1"
   ]
  },
  {
   "cell_type": "code",
   "execution_count": 12,
   "id": "33e36e2b",
   "metadata": {},
   "outputs": [
    {
     "data": {
      "text/plain": [
       "True"
      ]
     },
     "execution_count": 12,
     "metadata": {},
     "output_type": "execute_result"
    }
   ],
   "source": [
    "1!=2"
   ]
  },
  {
   "cell_type": "markdown",
   "id": "497aa283",
   "metadata": {},
   "source": [
    "Greater Than Operator (>):\n",
    "\n",
    "The greater than operator checks if the value on the left is greater than the value on the right."
   ]
  },
  {
   "cell_type": "code",
   "execution_count": 13,
   "id": "e14043fb",
   "metadata": {},
   "outputs": [
    {
     "data": {
      "text/plain": [
       "False"
      ]
     },
     "execution_count": 13,
     "metadata": {},
     "output_type": "execute_result"
    }
   ],
   "source": [
    "5>10"
   ]
  },
  {
   "cell_type": "code",
   "execution_count": 14,
   "id": "d37f520b",
   "metadata": {},
   "outputs": [
    {
     "data": {
      "text/plain": [
       "True"
      ]
     },
     "execution_count": 14,
     "metadata": {},
     "output_type": "execute_result"
    }
   ],
   "source": [
    "2>1"
   ]
  },
  {
   "cell_type": "markdown",
   "id": "84dadb96",
   "metadata": {},
   "source": [
    "Less Than Operator (<):\n",
    "\n",
    "The less than operator checks if the value on the left is less than the value on the right."
   ]
  },
  {
   "cell_type": "code",
   "execution_count": 15,
   "id": "ca793fbe",
   "metadata": {},
   "outputs": [
    {
     "data": {
      "text/plain": [
       "True"
      ]
     },
     "execution_count": 15,
     "metadata": {},
     "output_type": "execute_result"
    }
   ],
   "source": [
    "5<10"
   ]
  },
  {
   "cell_type": "code",
   "execution_count": 17,
   "id": "95309453",
   "metadata": {},
   "outputs": [
    {
     "data": {
      "text/plain": [
       "False"
      ]
     },
     "execution_count": 17,
     "metadata": {},
     "output_type": "execute_result"
    }
   ],
   "source": [
    "2<1"
   ]
  },
  {
   "cell_type": "markdown",
   "id": "7e0c2e1e",
   "metadata": {},
   "source": [
    "Greater Than or Equal To Operator (>=):\n",
    "\n",
    "The greater than or equal to operator checks if the value on the left is greater than or equal to the value on the right."
   ]
  },
  {
   "cell_type": "code",
   "execution_count": 19,
   "id": "a6738bda",
   "metadata": {},
   "outputs": [
    {
     "data": {
      "text/plain": [
       "True"
      ]
     },
     "execution_count": 19,
     "metadata": {},
     "output_type": "execute_result"
    }
   ],
   "source": [
    "5>=4"
   ]
  },
  {
   "cell_type": "markdown",
   "id": "8a19d2ac",
   "metadata": {},
   "source": [
    "4>=4"
   ]
  },
  {
   "cell_type": "code",
   "execution_count": 21,
   "id": "5f91d21f",
   "metadata": {},
   "outputs": [
    {
     "data": {
      "text/plain": [
       "False"
      ]
     },
     "execution_count": 21,
     "metadata": {},
     "output_type": "execute_result"
    }
   ],
   "source": [
    "2>=3"
   ]
  },
  {
   "cell_type": "markdown",
   "id": "5162c635",
   "metadata": {},
   "source": [
    "Less Than or Equal To Operator (<=):\n",
    "\n",
    "The less than or equal to operator checks if the value on the left is less than or equal to the value on the right."
   ]
  },
  {
   "cell_type": "code",
   "execution_count": 22,
   "id": "8508cb25",
   "metadata": {},
   "outputs": [
    {
     "data": {
      "text/plain": [
       "False"
      ]
     },
     "execution_count": 22,
     "metadata": {},
     "output_type": "execute_result"
    }
   ],
   "source": [
    "10<=5"
   ]
  },
  {
   "cell_type": "code",
   "execution_count": 23,
   "id": "4a7db879",
   "metadata": {},
   "outputs": [
    {
     "data": {
      "text/plain": [
       "True"
      ]
     },
     "execution_count": 23,
     "metadata": {},
     "output_type": "execute_result"
    }
   ],
   "source": [
    "5<=10"
   ]
  },
  {
   "cell_type": "code",
   "execution_count": 24,
   "id": "5dc0d3b3",
   "metadata": {},
   "outputs": [
    {
     "data": {
      "text/plain": [
       "True"
      ]
     },
     "execution_count": 24,
     "metadata": {},
     "output_type": "execute_result"
    }
   ],
   "source": [
    "5<=5"
   ]
  },
  {
   "cell_type": "markdown",
   "id": "e23cc7fe",
   "metadata": {},
   "source": [
    "6. How do you tell the difference between the equal to and assignment operators?Describe a condition and when you would use one."
   ]
  },
  {
   "cell_type": "markdown",
   "id": "3df31e31",
   "metadata": {},
   "source": [
    "Equality Operator (==):\n",
    "\n",
    "equality operator is used to compare two values to evaluate if they are equal or not.\n",
    "\n",
    "If the values are equal the output is True else False.\n",
    "\n",
    "It is used in conditional statements or expressions to make decisions based on whether two values are equal or not."
   ]
  },
  {
   "cell_type": "code",
   "execution_count": 25,
   "id": "fbe58118",
   "metadata": {},
   "outputs": [
    {
     "name": "stdout",
     "output_type": "stream",
     "text": [
      "5\n",
      "5\n",
      "x is equal to y\n"
     ]
    }
   ],
   "source": [
    "x=int(input())\n",
    "\n",
    "y=int(input())\n",
    "if x == y:\n",
    "    print(\"x is equal to y\")\n",
    "else:\n",
    "    print(\"x is not equal to y\")"
   ]
  },
  {
   "cell_type": "markdown",
   "id": "122690a8",
   "metadata": {},
   "source": [
    "Assignment Operator (=):\n",
    "\n",
    "The assignment operator is used to assign a value to a variable.\n",
    "\n",
    "It is used to store a value in a variable so that you can later use that value in your program.\n",
    "\n",
    "\n",
    "It does not compare values; instead, it assigns the value on the right side to the variable on the left side."
   ]
  },
  {
   "cell_type": "code",
   "execution_count": 26,
   "id": "5f8d451f",
   "metadata": {},
   "outputs": [
    {
     "name": "stdout",
     "output_type": "stream",
     "text": [
      "10\n"
     ]
    }
   ],
   "source": [
    "x=10\n",
    "y=x\n",
    "print(y)"
   ]
  },
  {
   "cell_type": "markdown",
   "id": "e38831a7",
   "metadata": {},
   "source": [
    "7. Identify the three blocks in this code:\n",
    "    \n",
    "spam = 0\n",
    "\n",
    "if spam == 10:\n",
    "    print(\"eggs\")\n",
    "\n",
    "if spam > 5:\n",
    "    print(\"bacon\")\n",
    "\n",
    "else:\n",
    "print(\"ham\")\n",
    "print(\"spam\")\n",
    "print(\"spam\")"
   ]
  },
  {
   "cell_type": "code",
   "execution_count": 27,
   "id": "50951d9a",
   "metadata": {},
   "outputs": [
    {
     "name": "stdout",
     "output_type": "stream",
     "text": [
      "ham\n",
      "spam\n",
      "spam\n"
     ]
    }
   ],
   "source": [
    "spam = 0\n",
    "\n",
    "if spam == 10:\n",
    "    print(\"eggs\")\n",
    "\n",
    "if spam > 5:\n",
    "    print(\"bacon\")\n",
    "\n",
    "else:\n",
    "    print(\"ham\")\n",
    "    print(\"spam\")\n",
    "    print(\"spam\")"
   ]
  },
  {
   "cell_type": "markdown",
   "id": "96ca7465",
   "metadata": {},
   "source": [
    "In python the blocks of code depend upon identation.\n",
    "\n",
    "here the first block of code is \n",
    "if spam == 10:\n",
    "    print(\"eggs\")\n",
    "This block prints eggs if spam is equal to 10.\n",
    "\n",
    "This is the 2nd block of code:\n",
    "if spam > 5:\n",
    "    print(\"bacon\")\n",
    "    \n",
    "This is the second if statement block. It checks if the value of the spam variable is greater than 5. If this condition is true, it will execute the print(\"bacon\") statement.\n",
    "\n",
    "else:\n",
    "  print(\"ham\")\n",
    "  print(\"spam\")\n",
    "  print(\"spam\")\n",
    "\n",
    "THis is the third block of in the code."
   ]
  },
  {
   "cell_type": "markdown",
   "id": "3b037dd1",
   "metadata": {},
   "source": [
    "8. Write code that prints Hello if 1 is stored in spam, prints Howdy if 2 is stored in spam, and printsGreetings! if anything else is stored in spam."
   ]
  },
  {
   "cell_type": "code",
   "execution_count": 32,
   "id": "6b6cf017",
   "metadata": {},
   "outputs": [
    {
     "name": "stdout",
     "output_type": "stream",
     "text": [
      "1\n",
      "Hello\n"
     ]
    }
   ],
   "source": [
    "spam = int(input())\n",
    "\n",
    "if spam == 1:\n",
    "    print(\"Hello\")\n",
    "\n",
    "elif spam == 2:\n",
    "    print(\"Howdy\")\n",
    "    \n",
    "else:\n",
    "    print(\"Greetings\")"
   ]
  },
  {
   "cell_type": "code",
   "execution_count": 33,
   "id": "e546f632",
   "metadata": {},
   "outputs": [
    {
     "name": "stdout",
     "output_type": "stream",
     "text": [
      "2\n",
      "Howdy\n"
     ]
    }
   ],
   "source": [
    "spam = int(input())\n",
    "\n",
    "if spam == 1:\n",
    "    print(\"Hello\")\n",
    "\n",
    "elif spam == 2:\n",
    "    print(\"Howdy\")\n",
    "    \n",
    "else:\n",
    "    print(\"Greetings\")"
   ]
  },
  {
   "cell_type": "code",
   "execution_count": 34,
   "id": "64ecaeb5",
   "metadata": {},
   "outputs": [
    {
     "name": "stdout",
     "output_type": "stream",
     "text": [
      "3\n",
      "Greetings\n"
     ]
    }
   ],
   "source": [
    "spam = int(input())\n",
    "\n",
    "if spam == 1:\n",
    "    print(\"Hello\")\n",
    "\n",
    "elif spam == 2:\n",
    "    print(\"Howdy\")\n",
    "    \n",
    "else:\n",
    "    print(\"Greetings\")"
   ]
  },
  {
   "cell_type": "markdown",
   "id": "28bc8c5c",
   "metadata": {},
   "source": [
    "9.If your programme is stuck in an endless loop, what keys you’ll press?"
   ]
  },
  {
   "cell_type": "markdown",
   "id": "b66bf966",
   "metadata": {},
   "source": [
    "Press Ctrl + C"
   ]
  },
  {
   "cell_type": "markdown",
   "id": "971b5ecf",
   "metadata": {},
   "source": [
    "10. How can you tell the difference between break and continue?"
   ]
  },
  {
   "cell_type": "markdown",
   "id": "4a0f3188",
   "metadata": {},
   "source": [
    "break:\n",
    "\n",
    "The break statement is used to exit or terminate the current loop prematurely.\n",
    "\n",
    "When break is encountered within a loop, it immediately exits the loop, and the program continues executing the code after the loop.\n",
    "\n",
    "break is typically used to stop the loop when a certain condition is met, allowing you to exit the loop early.\n",
    "\n",
    "It does not skip any iterations; it simply ends the loop entirely."
   ]
  },
  {
   "cell_type": "markdown",
   "id": "4d22eb00",
   "metadata": {},
   "source": [
    "continue:\n",
    "\n",
    "The continue statement is used to skip the current iteration of a loop and move to the next iteration.\n",
    "\n",
    "When continue is encountered within a loop, it skips the remaining code in the current iteration and immediately proceeds to the next iteration of the loop.\n",
    "\n",
    "continue is typically used when you want to skip certain iterations based on a condition but continue the loop.\n",
    "\n",
    "It does not exit the loop; it only skips the current iteration."
   ]
  },
  {
   "cell_type": "markdown",
   "id": "e3ddc84b",
   "metadata": {},
   "source": [
    "11. In a for loop, what is the difference between range(10), range(0, 10), and range(0, 10, 1)?\n"
   ]
  },
  {
   "cell_type": "markdown",
   "id": "b1242ac9",
   "metadata": {},
   "source": [
    "range(10), range(0, 10), and range(0, 10, 1) all this are range function commonly used in for loops to generate sequesnce of numbers.\n",
    "\n",
    "All this functions will be generating numbers from 0 to 9, when in loop it increments by 1 (which is default) at every iteration. hence it starts at 0 and ends at 9.\n",
    "\n",
    "range(10) - in ths function just the upper limit is mentioned that is till where funtion should iterate.\n",
    "\n",
    "range(0,10)- this function is same as the previous one, however here the start point is alos mentioned that is 0, which means from which point you need to generate the sequence.\n",
    "\n",
    "\n",
    "range(0,10,1)- this function as well is the same as the previous two, but in this range function it explicitly specifies the start, stop, and step values.\n",
    "\n",
    "It starts at 0, stops before reaching 10, and increments by 1, which are the same values as the defaults.\n"
   ]
  },
  {
   "cell_type": "markdown",
   "id": "f57c83d9",
   "metadata": {},
   "source": [
    "12. Write a short program that prints the numbers 1 to 10 using a for loop. Then write an equivalentprogram that prints the numbers 1 to 10 using a while loop."
   ]
  },
  {
   "cell_type": "code",
   "execution_count": 35,
   "id": "34fa34c4",
   "metadata": {},
   "outputs": [
    {
     "name": "stdout",
     "output_type": "stream",
     "text": [
      "0\n",
      "1\n",
      "2\n",
      "3\n",
      "4\n",
      "5\n",
      "6\n",
      "7\n",
      "8\n",
      "9\n",
      "10\n"
     ]
    }
   ],
   "source": [
    "for i in range(11):\n",
    "    print(i)"
   ]
  },
  {
   "cell_type": "code",
   "execution_count": 37,
   "id": "90f5e92d",
   "metadata": {},
   "outputs": [
    {
     "name": "stdout",
     "output_type": "stream",
     "text": [
      "0\n",
      "1\n",
      "2\n",
      "3\n",
      "4\n",
      "5\n",
      "6\n",
      "7\n",
      "8\n",
      "9\n",
      "10\n"
     ]
    }
   ],
   "source": [
    "i=0\n",
    "while i<11:\n",
    "    print(i)\n",
    "    i=i+1"
   ]
  },
  {
   "cell_type": "markdown",
   "id": "43a40dce",
   "metadata": {},
   "source": [
    "13. If you had a function named bacon() inside a module named spam, how would you call it afterimporting spam?"
   ]
  },
  {
   "cell_type": "markdown",
   "id": "fa658d12",
   "metadata": {},
   "source": [
    "import spam imports the spam module into your current Python script.\n",
    "\n",
    "spam.bacon() calls the bacon() function from the spam module."
   ]
  },
  {
   "cell_type": "code",
   "execution_count": null,
   "id": "76c137d1",
   "metadata": {},
   "outputs": [],
   "source": []
  }
 ],
 "metadata": {
  "kernelspec": {
   "display_name": "Python 3 (ipykernel)",
   "language": "python",
   "name": "python3"
  },
  "language_info": {
   "codemirror_mode": {
    "name": "ipython",
    "version": 3
   },
   "file_extension": ".py",
   "mimetype": "text/x-python",
   "name": "python",
   "nbconvert_exporter": "python",
   "pygments_lexer": "ipython3",
   "version": "3.10.9"
  }
 },
 "nbformat": 4,
 "nbformat_minor": 5
}
